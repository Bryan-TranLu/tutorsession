{
 "cells": [
  {
   "cell_type": "code",
   "execution_count": 6,
   "id": "db35cd0a-5bf6-4047-be5b-8bf42c1db91f",
   "metadata": {},
   "outputs": [],
   "source": [
    "# Tutoring session 4/20\n",
    "\n",
    "#1 .env help\n",
    "#2 github help\n",
    "#3 conda enviroment on terminal (instead of VS Code, jupyter lab)"
   ]
  },
  {
   "cell_type": "code",
   "execution_count": 15,
   "id": "7199f1dc-36b1-4bb6-bf47-96de7c37ce18",
   "metadata": {},
   "outputs": [],
   "source": [
    "import os\n",
    "import requests\n",
    "import pandas as pd\n",
    "from dotenv import load_dotenv\n",
    "import alpaca_trade_api as tradeapi\n",
    "%matplotlib inline"
   ]
  },
  {
   "cell_type": "code",
   "execution_count": 18,
   "id": "8aa9c471-c7c2-4128-aef1-1a1d09339a7b",
   "metadata": {},
   "outputs": [
    {
     "data": {
      "text/plain": [
       "False"
      ]
     },
     "execution_count": 18,
     "metadata": {},
     "output_type": "execute_result"
    }
   ],
   "source": [
    "# load_dotenv is always false except when a path is defined\n",
    "# cannot create .env file without a name\n",
    "\n",
    "load_dotenv()"
   ]
  },
  {
   "cell_type": "code",
   "execution_count": null,
   "id": "60f4b97a-c1c9-4f24-9eb8-0a32880320f5",
   "metadata": {},
   "outputs": [],
   "source": [
    "alpaca_api_key = os.getenv(\"ALPACA_API_KEY\")\n",
    "alpaca_secret_key = os.getenv(\"ALPACA_SECRET_KEY\")\n",
    "\n",
    "# Check the values were imported correctly by evaluating the type of each\n",
    "display(type(alpaca_api_key))\n",
    "display(type(alpaca_secret_key))"
   ]
  },
  {
   "cell_type": "code",
   "execution_count": null,
   "id": "205c6db2-c8bd-4d5f-8e40-6664e6156a93",
   "metadata": {},
   "outputs": [],
   "source": []
  }
 ],
 "metadata": {
  "kernelspec": {
   "display_name": "Python 3 (ipykernel)",
   "language": "python",
   "name": "python3"
  },
  "language_info": {
   "codemirror_mode": {
    "name": "ipython",
    "version": 3
   },
   "file_extension": ".py",
   "mimetype": "text/x-python",
   "name": "python",
   "nbconvert_exporter": "python",
   "pygments_lexer": "ipython3",
   "version": "3.9.13"
  }
 },
 "nbformat": 4,
 "nbformat_minor": 5
}
